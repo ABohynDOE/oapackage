{
 "cells": [
  {
   "cell_type": "markdown",
   "metadata": {},
   "source": [
    "# Example code for delete-one-factor projections"
   ]
  },
  {
   "cell_type": "markdown",
   "metadata": {},
   "source": [
    "Any orthogonal array can be reduced to delete-one-factor projection form using `reduceDOPform`."
   ]
  },
  {
   "cell_type": "code",
   "execution_count": 5,
   "metadata": {
    "collapsed": false
   },
   "outputs": [
    {
     "name": "stdout",
     "output_type": "stream",
     "text": [
      "array: \n",
      "  0   0   0   0   0   0   0\n",
      "  0   0   0   0   0   0   1\n",
      "  0   0   0   1   1   1   0\n",
      "  0   0   0   1   1   1   1\n",
      "  0   1   1   0   0   1   0\n",
      "  0   1   1   0   0   1   1\n",
      "  0   1   1   1   1   0   0\n",
      "  0   1   1   1   1   0   1\n",
      "  1   0   1   0   1   0   0\n",
      "  1   0   1   0   1   1   1\n",
      "  1   0   1   1   0   0   0\n",
      "  1   0   1   1   0   1   1\n",
      "  1   1   0   0   1   0   1\n",
      "  1   1   0   0   1   1   0\n",
      "  1   1   0   1   0   0   1\n",
      "  1   1   0   1   0   1   0\n"
     ]
    }
   ],
   "source": [
    "import oapackage\n",
    "al=oapackage.exampleArray(4)\n",
    "al=oapackage.reduceDOPform(al)\n",
    "al.showarray()"
   ]
  },
  {
   "cell_type": "code",
   "execution_count": 13,
   "metadata": {
    "collapsed": false
   },
   "outputs": [
    {
     "name": "stdout",
     "output_type": "stream",
     "text": [
      "GWLP (1.0, 0.0, 0.0, 0.1875, 0.0, 0.0625)\n",
      "dof 0: GWLP (1.0, 0.0, 0.0, 0.0, 0.0)\n",
      "dof 1: GWLP (1.0, 0.0, 0.0, 0.0, 0.0)\n",
      "dof 2: GWLP (1.0, 0.0, 0.0, 0.125, 0.0)\n",
      "dof 3: GWLP (1.0, 0.0, 0.0, 0.125, 0.0)\n",
      "dof 4: GWLP (1.0, 0.0, 0.0, 0.125, 0.0)\n"
     ]
    }
   ],
   "source": [
    "print('GWLP %s' %  str(al.GWLP()) ) \n",
    "for ii in range(0, al.n_columns):\n",
    "     bl=al.deleteColumn(ii)\n",
    "     print('dof %d: GWLP %s' % (ii, str(bl.GWLP()) ) )\n",
    "dopgwp = oapackage.projectionGWLPvalues ( al )\n",
    "sg=oapackage.symmetry_group(list(dopgwp), False, 0)"
   ]
  },
  {
   "cell_type": "code",
   "execution_count": 28,
   "metadata": {
    "collapsed": false
   },
   "outputs": [
    {
     "name": "stdout",
     "output_type": "stream",
     "text": [
      "symmetry group: 5 elements, 2 subgroups: 2 3 \n"
     ]
    }
   ],
   "source": [
    "sg.show(1)"
   ]
  },
  {
   "cell_type": "markdown",
   "metadata": {},
   "source": [
    "Also for mixed-level arrays we can calculate normal forms."
   ]
  },
  {
   "cell_type": "code",
   "execution_count": 27,
   "metadata": {
    "collapsed": false
   },
   "outputs": [
    {
     "name": "stdout",
     "output_type": "stream",
     "text": [
      "array: \n",
      "  0   0   0   0   0\n",
      "  0   0   0   0   0\n",
      "  0   1   0   0   0\n",
      "  0   1   1   1   1\n",
      "  0   2   1   1   1\n",
      "  0   2   1   1   1\n",
      "  1   0   0   1   1\n",
      "  1   0   0   1   1\n",
      "  1   1   0   0   1\n",
      "  1   1   1   1   0\n",
      "  1   2   1   0   0\n",
      "  1   2   1   0   0\n",
      "  2   0   1   0   1\n",
      "  2   0   1   0   1\n",
      "  2   1   0   1   0\n",
      "  2   1   1   0   1\n",
      "  2   2   0   1   0\n",
      "  2   2   0   1   0\n",
      "  3   0   1   1   0\n",
      "  3   0   1   1   0\n",
      "  3   1   0   1   1\n",
      "  3   1   1   0   0\n",
      "  3   2   0   0   1\n",
      "  3   2   0   0   1\n",
      "GWLP (1.0, 0.0, 0.0, 4.111111111111111, 1.5555555555555556, 0.0)\n",
      "delete-one-factor GWLP values (0.0006666666666666666, 0.021111111111111112, 0.019333333333333334, 0.023333333333333334, 0.019333333333333334)\n"
     ]
    }
   ],
   "source": [
    "al=oapackage.exampleArray(5)\n",
    "al.showarray()\n",
    "print('GWLP %s' %  str(al.GWLP()) )\n",
    "dopgwp = oapackage.projectionGWLPvalues ( al )\n",
    "print('delete-one-factor GWLP values %s' % (dopgwp,) )"
   ]
  },
  {
   "cell_type": "code",
   "execution_count": 29,
   "metadata": {
    "collapsed": false
   },
   "outputs": [],
   "source": [
    "s=oapackage.projectionGWLPs(al)"
   ]
  }
 ],
 "metadata": {
  "kernelspec": {
   "display_name": "Python 3",
   "language": "python",
   "name": "python3"
  },
  "language_info": {
   "codemirror_mode": {
    "name": "ipython",
    "version": 3
   },
   "file_extension": ".py",
   "mimetype": "text/x-python",
   "name": "python",
   "nbconvert_exporter": "python",
   "pygments_lexer": "ipython3",
   "version": "3.5.2"
  }
 },
 "nbformat": 4,
 "nbformat_minor": 0
}
