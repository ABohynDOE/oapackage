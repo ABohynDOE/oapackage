{
 "cells": [
  {
   "cell_type": "markdown",
   "metadata": {},
   "source": [
    "# Example script for Python interface to Orthogonal Array code."
   ]
  },
  {
   "cell_type": "markdown",
   "metadata": {},
   "source": [
    "Pieter Eendebak <a href=\"mailto:pieter.eendebak@gmail.com\">pieter.eendebak@gmail.com</a>"
   ]
  },
  {
   "cell_type": "code",
   "execution_count": 1,
   "metadata": {
    "collapsed": false
   },
   "outputs": [
    {
     "name": "stdout",
     "output_type": "stream",
     "text": [
      "oalib version: 2.3.5\n"
     ]
    }
   ],
   "source": [
    "import numpy as np\n",
    "import oapackage\n",
    "print('oalib version: %s' % oapackage.version() )"
   ]
  },
  {
   "cell_type": "markdown",
   "metadata": {},
   "source": [
    "Load an example array"
   ]
  },
  {
   "cell_type": "code",
   "execution_count": 2,
   "metadata": {
    "collapsed": false
   },
   "outputs": [
    {
     "name": "stdout",
     "output_type": "stream",
     "text": [
      "array: \n",
      "  0   0\n",
      "  0   0\n",
      "  0   1\n",
      "  0   1\n",
      "  1   0\n",
      "  1   0\n",
      "  1   1\n",
      "  1   1\n"
     ]
    }
   ],
   "source": [
    "al=oapackage.exampleArray(0)\n",
    "al.showarray()"
   ]
  },
  {
   "cell_type": "markdown",
   "metadata": {},
   "source": [
    "Calculate properties of the design"
   ]
  },
  {
   "cell_type": "code",
   "execution_count": 3,
   "metadata": {
    "collapsed": false
   },
   "outputs": [
    {
     "name": "stdout",
     "output_type": "stream",
     "text": [
      "D-efficiency 1.000000, rank 2\n",
      "Generalized wordlength pattern: (1.0, 0.0, 0.0)\n"
     ]
    }
   ],
   "source": [
    "print('D-efficiency %f, rank %d' % (al.Defficiency(), al.rank()) )\n",
    "print('Generalized wordlength pattern: %s' % str(al.GWLP()))"
   ]
  },
  {
   "cell_type": "markdown",
   "metadata": {},
   "source": [
    "Repeat for another design"
   ]
  },
  {
   "cell_type": "code",
   "execution_count": 4,
   "metadata": {
    "collapsed": false
   },
   "outputs": [
    {
     "name": "stdout",
     "output_type": "stream",
     "text": [
      "Generalized wordlength pattern: (1.0, 0.0, 0.0, 1.0, 1.0, 0.0)\n"
     ]
    }
   ],
   "source": [
    "al=oapackage.exampleArray(1)\n",
    "print('Generalized wordlength pattern: %s' % str(al.GWLP()))"
   ]
  },
  {
   "cell_type": "markdown",
   "metadata": {
    "collapsed": true
   },
   "source": [
    "## Numpy"
   ]
  },
  {
   "cell_type": "markdown",
   "metadata": {},
   "source": [
    "We can convert between Numpy arrays and `array_link` objects. Note that an `array_link` is always integer valued, so any floating point Numpy array is rounded."
   ]
  },
  {
   "cell_type": "code",
   "execution_count": 5,
   "metadata": {
    "collapsed": false
   },
   "outputs": [
    {
     "name": "stdout",
     "output_type": "stream",
     "text": [
      "3301023333\n",
      "2231130203\n",
      "1201200312\n",
      "0103301233\n",
      "2111022113\n",
      "0133323100\n",
      "1323020332\n",
      "0103022212\n",
      "2212023001\n",
      "3130030212\n",
      "1020110003\n",
      "0331331202\n",
      "2333210032\n",
      "1120120231\n",
      "1102210321\n",
      "3120230232\n",
      "3223111333\n",
      "1020122233\n",
      "0300330033\n",
      "3032320013\n"
     ]
    }
   ],
   "source": [
    "X=(4*np.random.rand( 20, 10)).astype(int)\n",
    "al=oapackage.array_link(X)\n",
    "al.showarraycompact()"
   ]
  },
  {
   "cell_type": "markdown",
   "metadata": {},
   "source": [
    "Convert from `array_link` back to Numpy array:"
   ]
  },
  {
   "cell_type": "code",
   "execution_count": 6,
   "metadata": {
    "collapsed": true
   },
   "outputs": [],
   "source": [
    "X2=np.array(al)"
   ]
  }
 ],
 "metadata": {
  "kernelspec": {
   "display_name": "Python 3",
   "language": "python",
   "name": "python3"
  },
  "language_info": {
   "codemirror_mode": {
    "name": "ipython",
    "version": 3
   },
   "file_extension": ".py",
   "mimetype": "text/x-python",
   "name": "python",
   "nbconvert_exporter": "python",
   "pygments_lexer": "ipython3",
   "version": "3.5.2"
  }
 },
 "nbformat": 4,
 "nbformat_minor": 0
}
