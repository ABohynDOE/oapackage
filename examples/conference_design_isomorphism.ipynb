{
 "cells": [
  {
   "cell_type": "markdown",
   "metadata": {},
   "source": [
    "# Isomorphism reduction for conference matrices"
   ]
  },
  {
   "cell_type": "markdown",
   "metadata": {},
   "source": [
    "We define two arrays in $C(10, 3)$ and calculate a reduction to normal form. Using the reduction we determine an isomorphism between the two arrays."
   ]
  },
  {
   "cell_type": "code",
   "execution_count": 1,
   "metadata": {
    "collapsed": false
   },
   "outputs": [
    {
     "name": "stdout",
     "output_type": "stream",
     "text": [
      "array: \n",
      "  0   1   1\n",
      "  1   0   1\n",
      "  1   1   0\n",
      "  1   1   1\n",
      "  1   1  -1\n",
      "  1   1  -1\n",
      "  1  -1   1\n",
      "  1  -1   1\n",
      "  1  -1  -1\n",
      "  1  -1  -1\n",
      "array: \n",
      "  0   1   1\n",
      "  1   0   1\n",
      "  1   1   0\n",
      "  1   1   1\n",
      "  1   1  -1\n",
      "  1   1  -1\n",
      "  1  -1   1\n",
      "  1  -1   1\n",
      "  1  -1  -1\n",
      "  1  -1  -1\n"
     ]
    }
   ],
   "source": [
    "import oapackage\n",
    "import numpy as np\n",
    "\n",
    "# define two designs\n",
    "A=np.array([0,1,1, 1,0,1, 1,1,0, 1,1,1, 1,1,-1, 1,1,-1, 1,-1,1, 1,-1,1, 1,-1,-1, 1,-1,-1]).reshape(10,3)\n",
    "B=np.array([0,1,1, 1,0,1, 1,1,0, 1,1,1, 1,1,-1, 1,1,-1, 1,-1,1, 1,-1,1, 1,-1,-1, 1,-1,-1]).reshape(10,3)\n",
    "al1=oapackage.makearraylink( A )\n",
    "al2=oapackage.makearraylink( B )\n",
    "\n",
    "al1.showarray()\n",
    "al2.showarray()"
   ]
  },
  {
   "cell_type": "markdown",
   "metadata": {},
   "source": [
    "We calculate normal forms for conference designs using the function |reduceConference| or |reduceConferenceTransformation|. The result of the former is the reduced design, the result of the latter is an object describing the tranformation to normal form. The normal form is calculated using Nauty."
   ]
  },
  {
   "cell_type": "code",
   "execution_count": 2,
   "metadata": {
    "collapsed": false
   },
   "outputs": [
    {
     "name": "stdout",
     "output_type": "stream",
     "text": [
      "row permutation: {2,0,1,9,7,8,5,6,3,4}\n",
      "  row flips: {1,1,-1,1,1,1,1,1,1,1}\n",
      "column permutation: {0,1,2}\n",
      "  col flips: {1,-1,-1}\n"
     ]
    }
   ],
   "source": [
    "T1=oapackage.reduceConferenceTransformation(al1, verbose=1)\n",
    "T2=oapackage.reduceConferenceTransformation(al2, verbose=1)\n",
    "T1.show()"
   ]
  },
  {
   "cell_type": "markdown",
   "metadata": {},
   "source": [
    "We can check whether the designs are isomorphic by comparing the normal forms."
   ]
  },
  {
   "cell_type": "code",
   "execution_count": 3,
   "metadata": {
    "collapsed": false
   },
   "outputs": [
    {
     "name": "stdout",
     "output_type": "stream",
     "text": [
      "designs isomorphic? 1\n"
     ]
    }
   ],
   "source": [
    "i = T1.apply(al1)==T2.apply(al2)\n",
    "print('designs isomorphic? %s' % i)"
   ]
  },
  {
   "cell_type": "markdown",
   "metadata": {},
   "source": [
    "The designs are isomorphic, we can calculate a reduction of the second design into the firs design as follows:"
   ]
  },
  {
   "cell_type": "code",
   "execution_count": 4,
   "metadata": {
    "collapsed": false
   },
   "outputs": [
    {
     "name": "stdout",
     "output_type": "stream",
     "text": [
      "row permutation: {0,1,2,3,4,5,6,7,8,9}\n",
      "  row flips: {1,1,1,1,1,1,1,1,1,1}\n",
      "column permutation: {0,1,2}\n",
      "  col flips: {1,1,1}\n"
     ]
    }
   ],
   "source": [
    "TT=T1.inverse() * T2\n",
    "TT.show()"
   ]
  }
 ],
 "metadata": {
  "kernelspec": {
   "display_name": "Python 3",
   "language": "python",
   "name": "python3"
  },
  "language_info": {
   "codemirror_mode": {
    "name": "ipython",
    "version": 3
   },
   "file_extension": ".py",
   "mimetype": "text/x-python",
   "name": "python",
   "nbconvert_exporter": "python",
   "pygments_lexer": "ipython3",
   "version": "3.5.2"
  }
 },
 "nbformat": 4,
 "nbformat_minor": 0
}
