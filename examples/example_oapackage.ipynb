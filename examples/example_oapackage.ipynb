{
 "cells": [
  {
   "cell_type": "markdown",
   "metadata": {},
   "source": [
    "# Example script for Python interface to Orthogonal Array code."
   ]
  },
  {
   "cell_type": "markdown",
   "metadata": {},
   "source": [
    "Pieter Eendebak <a href=\"mailto:pieter.eendebak@gmail.com\">pieter.eendebak@gmail.com</a>"
   ]
  },
  {
   "cell_type": "code",
   "execution_count": 1,
   "metadata": {
    "collapsed": false
   },
   "outputs": [
    {
     "name": "stdout",
     "output_type": "stream",
     "text": [
      "oalib version: 2.3.4\n"
     ]
    }
   ],
   "source": [
    "import numpy as np\n",
    "import oapackage\n",
    "print('oalib version: %s' % oapackage.version() )"
   ]
  },
  {
   "cell_type": "markdown",
   "metadata": {},
   "source": [
    "Load an example array"
   ]
  },
  {
   "cell_type": "code",
   "execution_count": 2,
   "metadata": {
    "collapsed": false
   },
   "outputs": [
    {
     "name": "stdout",
     "output_type": "stream",
     "text": [
      "array: \n",
      "  0   0\n",
      "  0   0\n",
      "  0   1\n",
      "  0   1\n",
      "  1   0\n",
      "  1   0\n",
      "  1   1\n",
      "  1   1\n"
     ]
    }
   ],
   "source": [
    "al=oapackage.exampleArray(0)\n",
    "al.showarray()"
   ]
  },
  {
   "cell_type": "markdown",
   "metadata": {},
   "source": [
    "Calculate properties of the design"
   ]
  },
  {
   "cell_type": "code",
   "execution_count": 3,
   "metadata": {
    "collapsed": false
   },
   "outputs": [
    {
     "name": "stdout",
     "output_type": "stream",
     "text": [
      "D-efficiency 1.000000, rank 2\n",
      "Generalized wordlength pattern: (1.0, 0.0, 0.0)\n"
     ]
    }
   ],
   "source": [
    "print('D-efficiency %f, rank %d' % (al.Defficiency(), al.rank()) )\n",
    "print('Generalized wordlength pattern: %s' % str(al.GWLP()))"
   ]
  },
  {
   "cell_type": "markdown",
   "metadata": {},
   "source": [
    "Repeat for another design"
   ]
  },
  {
   "cell_type": "code",
   "execution_count": 4,
   "metadata": {
    "collapsed": false
   },
   "outputs": [
    {
     "name": "stdout",
     "output_type": "stream",
     "text": [
      "Generalized wordlength pattern: (1.0, 0.0, 0.0, 1.0, 1.0, 0.0)\n"
     ]
    }
   ],
   "source": [
    "al=oapackage.exampleArray(1)\n",
    "print('Generalized wordlength pattern: %s' % str(al.GWLP()))"
   ]
  },
  {
   "cell_type": "markdown",
   "metadata": {
    "collapsed": true
   },
   "source": [
    "Convert a Numpy array to an `array_link`."
   ]
  },
  {
   "cell_type": "code",
   "execution_count": 6,
   "metadata": {
    "collapsed": false
   },
   "outputs": [
    {
     "name": "stdout",
     "output_type": "stream",
     "text": [
      "1202001201\n",
      "2223013003\n",
      "2213111320\n",
      "2332322123\n",
      "1030120113\n",
      "3013031231\n",
      "1201301112\n",
      "2300013200\n",
      "3002003321\n",
      "2003331033\n",
      "1021120020\n",
      "3023022210\n",
      "1132233003\n",
      "0122221200\n",
      "2101212322\n",
      "0003211012\n",
      "2230310113\n",
      "2030012031\n",
      "1223013012\n",
      "1021011133\n"
     ]
    }
   ],
   "source": [
    "X=(4*np.random.rand( 20, 10)).astype(int)\n",
    "al=oapackage.makearraylink(X)\n",
    "al.showarraycompact()"
   ]
  },
  {
   "cell_type": "code",
   "execution_count": null,
   "metadata": {
    "collapsed": true
   },
   "outputs": [],
   "source": []
  }
 ],
 "metadata": {
  "kernelspec": {
   "display_name": "Python 3",
   "language": "python",
   "name": "python3"
  },
  "language_info": {
   "codemirror_mode": {
    "name": "ipython",
    "version": 3
   },
   "file_extension": ".py",
   "mimetype": "text/x-python",
   "name": "python",
   "nbconvert_exporter": "python",
   "pygments_lexer": "ipython3",
   "version": "3.5.2"
  }
 },
 "nbformat": 4,
 "nbformat_minor": 0
}
