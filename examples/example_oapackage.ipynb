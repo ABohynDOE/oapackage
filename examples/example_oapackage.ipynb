{
 "cells": [
  {
   "cell_type": "markdown",
   "metadata": {},
   "source": [
    "# Example script for Python interface to Orthogonal Array code."
   ]
  },
  {
   "cell_type": "markdown",
   "metadata": {},
   "source": [
    "Pieter Eendebak <a href=\"mailto:pieter.eendebak@gmail.com\">pieter.eendebak@gmail.com</a>"
   ]
  },
  {
   "cell_type": "code",
   "execution_count": 2,
   "metadata": {
    "collapsed": false
   },
   "outputs": [
    {
     "name": "stdout",
     "output_type": "stream",
     "text": [
      "oalib version: 2.3.3\n"
     ]
    }
   ],
   "source": [
    "import oapackage\n",
    "print('oalib version: %s' % oapackage.version() )"
   ]
  },
  {
   "cell_type": "markdown",
   "metadata": {},
   "source": [
    "Load an example array"
   ]
  },
  {
   "cell_type": "code",
   "execution_count": 4,
   "metadata": {
    "collapsed": false
   },
   "outputs": [
    {
     "name": "stdout",
     "output_type": "stream",
     "text": [
      "array: \n",
      "  0   0\n",
      "  0   0\n",
      "  0   1\n",
      "  0   1\n",
      "  1   0\n",
      "  1   0\n",
      "  1   1\n",
      "  1   1\n"
     ]
    }
   ],
   "source": [
    "al=oapackage.exampleArray(0)\n",
    "al.showarray()"
   ]
  },
  {
   "cell_type": "markdown",
   "metadata": {},
   "source": [
    "Calculate properties of the design"
   ]
  },
  {
   "cell_type": "code",
   "execution_count": 7,
   "metadata": {
    "collapsed": false
   },
   "outputs": [
    {
     "name": "stdout",
     "output_type": "stream",
     "text": [
      "D-efficiency 0.000000, rank 5\n",
      "Generalized wordlength pattern: (1.0, 0.0, 0.0, 1.0, 1.0, 0.0)\n"
     ]
    }
   ],
   "source": [
    "print('D-efficiency %f, rank %d' % (al.Defficiency(), al.rank()) )\n",
    "print('Generalized wordlength pattern: %s' % str(al.GWLP()))"
   ]
  },
  {
   "cell_type": "markdown",
   "metadata": {},
   "source": [
    "Repeat for another design"
   ]
  },
  {
   "cell_type": "code",
   "execution_count": 8,
   "metadata": {
    "collapsed": false
   },
   "outputs": [
    {
     "name": "stdout",
     "output_type": "stream",
     "text": [
      "Generalized wordlength pattern: (1.0, 0.0, 0.0, 1.0, 1.0, 0.0)\n"
     ]
    }
   ],
   "source": [
    "al=oapackage.exampleArray(1)\n",
    "print('Generalized wordlength pattern: %s' % str(al.GWLP()))"
   ]
  },
  {
   "cell_type": "code",
   "execution_count": null,
   "metadata": {
    "collapsed": true
   },
   "outputs": [],
   "source": []
  }
 ],
 "metadata": {
  "kernelspec": {
   "display_name": "Python 3",
   "language": "python",
   "name": "python3"
  },
  "language_info": {
   "codemirror_mode": {
    "name": "ipython",
    "version": 3
   },
   "file_extension": ".py",
   "mimetype": "text/x-python",
   "name": "python",
   "nbconvert_exporter": "python",
   "pygments_lexer": "ipython3",
   "version": "3.5.2"
  }
 },
 "nbformat": 4,
 "nbformat_minor": 0
}
