{
 "metadata": {
  "name": ""
 },
 "nbformat": 3,
 "nbformat_minor": 0,
 "worksheets": [
  {
   "cells": [
    {
     "cell_type": "heading",
     "level": 1,
     "metadata": {},
     "source": [
      "Example for Alan"
     ]
    },
    {
     "cell_type": "code",
     "collapsed": false,
     "input": [
      "import oapackage\n",
      "from bliss_reduction import *"
     ],
     "language": "python",
     "metadata": {},
     "outputs": [
      {
       "output_type": "stream",
       "stream": "stdout",
       "text": [
        "/home/eendebakpt/.local/lib/python2.7/site-packages/oapackage/__init__.pyc\n"
       ]
      }
     ],
     "prompt_number": 1
    },
    {
     "cell_type": "markdown",
     "metadata": {},
     "source": [
      "We load the arrays and determine the  class."
     ]
    },
    {
     "cell_type": "code",
     "collapsed": false,
     "input": [
      "sols=oapackage.readarrayfile('OAN56K28.oa')\n",
      "arrayclass=oapackage.arraylink2arraydata(sols[0])\n",
      "print(arrayclass)\n",
      "print('loaded %d arrays' % len(sols))"
     ],
     "language": "python",
     "metadata": {},
     "outputs": [
      {
       "output_type": "stream",
       "stream": "stdout",
       "text": [
        "arrayclass: N 56, k 28, strength 2, s {2,2,2,2,2,2,2,2,2,2,2,2,2,2,2,2,2,2,2,2,2,2,2,2,2,2,2,2}, order 0\n",
        "loaded 9 arrays\n"
       ]
      }
     ],
     "prompt_number": 11
    },
    {
     "cell_type": "markdown",
     "metadata": {},
     "source": [
      "Determine the unique isomorphism classes using <a href=\"http://www.tcs.hut.fi/Software/bliss/\">Bliss</a>."
     ]
    },
    {
     "cell_type": "code",
     "collapsed": false,
     "input": [
      "b,mm=selectIsomorphismClasses(sols, arrayclass)\n",
      "\n",
      "print('from %d arrays selected %d unique isomorphism classes' % (len(mm),np.unique(b).size))\n",
      "print('indices: %s' % str(b) )"
     ],
     "language": "python",
     "metadata": {},
     "outputs": [
      {
       "output_type": "stream",
       "stream": "stdout",
       "text": [
        "from 9 arrays selected 6 unique isomorphism classes\n",
        "indices: [0 1 2 5 4 2 5 3 1]\n"
       ]
      }
     ],
     "prompt_number": 4
    },
    {
     "cell_type": "markdown",
     "metadata": {},
     "source": [
      "Check that array 0 and 1 are indeed non-isomorphic:"
     ]
    },
    {
     "cell_type": "code",
     "collapsed": false,
     "input": [
      "jj=np.abs(sols[0].Jcharacteristics(4))\n",
      "n0, _=np.histogram(jj, [0,8,16,24])\n",
      "print(n0)\n",
      "jj=np.abs(sols[1].Jcharacteristics(4))\n",
      "n1, _=np.histogram(jj, [0,8,16,24])\n",
      "print(n1)"
     ],
     "language": "python",
     "metadata": {},
     "outputs": [
      {
       "output_type": "stream",
       "stream": "stdout",
       "text": [
        "[    0 18018  2457]\n",
        "[    0 18032  2436]\n"
       ]
      }
     ],
     "prompt_number": 10
    },
    {
     "cell_type": "markdown",
     "metadata": {},
     "source": [
      "So array 0 and 1 have different J-characteristics, they are non-isomorphic. For the isomorphic arrays we can get the array transformation to make the array identical out of the functions, see the code in `bliss_reduction` for details."
     ]
    },
    {
     "cell_type": "code",
     "collapsed": false,
     "input": [],
     "language": "python",
     "metadata": {},
     "outputs": []
    }
   ],
   "metadata": {}
  }
 ]
}