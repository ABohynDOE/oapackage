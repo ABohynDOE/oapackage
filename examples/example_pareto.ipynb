{
 "cells": [
  {
   "cell_type": "markdown",
   "metadata": {},
   "source": [
    "# Calculate a Pareto optimal set"
   ]
  },
  {
   "cell_type": "code",
   "execution_count": 4,
   "metadata": {
    "collapsed": true
   },
   "outputs": [],
   "source": [
    "#%% Load necessary packages \n",
    "import sys\n",
    "import os\n",
    "import numpy as np\n",
    "import time\n",
    "import matplotlib.pyplot as plt\n",
    "%matplotlib inline\n",
    "import time\n",
    "import platform\n",
    "import oapackage"
   ]
  },
  {
   "cell_type": "markdown",
   "metadata": {},
   "source": [
    "First we define a dataset of 50 random vectors."
   ]
  },
  {
   "cell_type": "code",
   "execution_count": 14,
   "metadata": {
    "collapsed": false
   },
   "outputs": [
    {
     "data": {
      "image/png": "[encoded data removed]",
      "text/plain": [
       "<matplotlib.figure.Figure at 0x7f07944b10f0>"
      ]
     },
     "metadata": {},
     "output_type": "display_data"
    }
   ],
   "source": [
    "x=np.random.rand(2, 50)\n",
    "\n",
    "for ii in range(0, x.shape[1]):\n",
    "    w=x[:,ii]\n",
    "    fac=.6+.4*np.linalg.norm(w)\n",
    "    x[:,ii]=(1/fac)*w\n",
    "\n",
    "plt.figure(1)\n",
    "plt.clf()\n",
    "h=plt.plot(x[0,:], x[1,:], '.b', markersize=16, label='Non Pareto-optimal')\n",
    "_=plt.title('The input data', fontsize=15)"
   ]
  },
  {
   "cell_type": "markdown",
   "metadata": {},
   "source": [
    "We create a structure (`ParetoDoubleLong`) to keep track of the data."
   ]
  },
  {
   "cell_type": "code",
   "execution_count": 23,
   "metadata": {
    "collapsed": false
   },
   "outputs": [],
   "source": [
    "par=oapackage.ParetoDoubleLong()\n",
    "\n",
    "for ii in range(0, x.shape[1]):\n",
    "    w=oapackage.doubleVector( (x[0,ii], x[1,ii]))\n",
    "    par.addvalue(w, ii)\n",
    "\n",
    "par.show()"
   ]
  },
  {
   "cell_type": "markdown",
   "metadata": {},
   "source": [
    "We plot the results"
   ]
  },
  {
   "cell_type": "code",
   "execution_count": 25,
   "metadata": {
    "collapsed": false
   },
   "outputs": [
    {
     "data": {
      "image/png": "[encoded data removed]",
      "text/plain": [
       "<matplotlib.figure.Figure at 0x7f07944be3c8>"
      ]
     },
     "metadata": {},
     "output_type": "display_data"
    }
   ],
   "source": [
    "lst=par.allindices() # the indices of the Pareto optimal designs\n",
    "\n",
    "xp=x[:,lst]\n",
    "\n",
    "plt.figure(1)\n",
    "plt.clf()\n",
    "h=plt.plot(x[0,:], x[1,:], '.b', markersize=16, label='Non Pareto-optimal')\n",
    "hp=plt.plot(xp[0,:], xp[1,:], '.r', markersize=16, label='Pareto optimal')\n",
    "plt.xlabel('Parameter 1', fontsize=16)\n",
    "plt.ylabel('Parameter 2', fontsize=16)\n",
    "plt.xticks([])\n",
    "plt.yticks([])\n",
    "_=plt.legend(loc=3, numpoints=1)    "
   ]
  },
  {
   "cell_type": "code",
   "execution_count": null,
   "metadata": {
    "collapsed": true
   },
   "outputs": [],
   "source": [
    "#plt.savefig('pareto-example.png', transparent=True)"
   ]
  }
 ],
 "metadata": {
  "kernelspec": {
   "display_name": "Python 3",
   "language": "python",
   "name": "python3"
  },
  "language_info": {
   "codemirror_mode": {
    "name": "ipython",
    "version": 3
   },
   "file_extension": ".py",
   "mimetype": "text/x-python",
   "name": "python",
   "nbconvert_exporter": "python",
   "pygments_lexer": "ipython3",
   "version": "3.5.2"
  }
 },
 "nbformat": 4,
 "nbformat_minor": 2
}
