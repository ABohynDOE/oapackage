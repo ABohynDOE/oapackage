{
 "cells": [
  {
   "cell_type": "markdown",
   "metadata": {},
   "source": [
    "# Example to write and read files from disk"
   ]
  },
  {
   "cell_type": "code",
   "execution_count": 17,
   "metadata": {
    "collapsed": false
   },
   "outputs": [],
   "source": [
    "import oapackage\n",
    "import tempfile"
   ]
  },
  {
   "cell_type": "markdown",
   "metadata": {},
   "source": [
    "We define a list of arrays."
   ]
  },
  {
   "cell_type": "code",
   "execution_count": 18,
   "metadata": {
    "collapsed": false
   },
   "outputs": [
    {
     "name": "stdout",
     "output_type": "stream",
     "text": [
      "[array_link: 18, 4, array_link: 18, 4]\n"
     ]
    }
   ],
   "source": [
    "lst = [oapackage.exampleArray(32), oapackage.exampleArray(33)]\n",
    "print(lst)"
   ]
  },
  {
   "cell_type": "markdown",
   "metadata": {
    "collapsed": false
   },
   "source": [
    "We write the two arrays to a file on disk."
   ]
  },
  {
   "cell_type": "code",
   "execution_count": 19,
   "metadata": {
    "collapsed": false
   },
   "outputs": [],
   "source": [
    "filename = tempfile.mktemp('.oa') \n",
    "_=oapackage.writearrayfile(filename, oapackage.arraylist_t(lst), oapackage.ATEXT)"
   ]
  },
  {
   "cell_type": "markdown",
   "metadata": {},
   "source": [
    "Display information about the file written:"
   ]
  },
  {
   "cell_type": "code",
   "execution_count": 21,
   "metadata": {
    "collapsed": false
   },
   "outputs": [
    {
     "name": "stdout",
     "output_type": "stream",
     "text": [
      "file /tmp/tmpzj6cd02n.oa: 18 rows, 4 columns, 2 arrays, mode text, nbits 0\n"
     ]
    }
   ],
   "source": [
    "oapackage.oainfo(filename)"
   ]
  },
  {
   "cell_type": "code",
   "execution_count": 23,
   "metadata": {
    "collapsed": false
   },
   "outputs": [
    {
     "name": "stdout",
     "output_type": "stream",
     "text": [
      "(array_link: 18, 4, array_link: 18, 4)\n",
      "array: \n",
      "  0   0   0   0\n",
      "  0   0   0   0\n",
      "  1   1   1   1\n",
      "  1   1   1   1\n",
      "  1   1  -1  -1\n",
      "  1   1  -1  -1\n",
      "  1  -1   1  -1\n",
      "  1  -1   1  -1\n",
      "  1  -1  -1   1\n",
      "  1  -1  -1   1\n",
      " -1   1   1  -1\n",
      " -1   1   1  -1\n",
      " -1   1  -1   1\n",
      " -1   1  -1   1\n",
      " -1  -1   1   1\n",
      " -1  -1   1   1\n",
      " -1  -1  -1  -1\n",
      " -1  -1  -1  -1\n"
     ]
    }
   ],
   "source": [
    "lst2=oapackage.readarrayfile(filename)\n",
    "print(lst2)\n",
    "lst2[0].showarray()"
   ]
  },
  {
   "cell_type": "code",
   "execution_count": null,
   "metadata": {
    "collapsed": true
   },
   "outputs": [],
   "source": []
  }
 ],
 "metadata": {
  "kernelspec": {
   "display_name": "Python 3",
   "language": "python",
   "name": "python3"
  },
  "language_info": {
   "codemirror_mode": {
    "name": "ipython",
    "version": 3
   },
   "file_extension": ".py",
   "mimetype": "text/x-python",
   "name": "python",
   "nbconvert_exporter": "python",
   "pygments_lexer": "ipython3",
   "version": "3.5.2"
  }
 },
 "nbformat": 4,
 "nbformat_minor": 0
}
